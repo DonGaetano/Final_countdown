{
 "cells": [
  {
   "cell_type": "markdown",
   "id": "6bf5cf35",
   "metadata": {},
   "source": [
    "## Ответьте на вопрос: каких показателей не хватает, чтобы посчитать чистую прибыль?"
   ]
  },
  {
   "cell_type": "markdown",
   "id": "c79736f0",
   "metadata": {},
   "source": [
    "### Как минимум не хватает следующих данных\n",
    "1. Стоимости аренды всех помещений\n",
    "2. ФОТ с учетом бонусов менеджеров от продажи авто\n",
    "3. Размера комиссии агентств, с которыми Заказчик работает по продвижению, так как обычно стоимость лида указывается без комиссии\n",
    "4. Иных расходов (представительских, ремонта салонов продаж, стоимости транспортивки авто и тд)\n",
    "5. Размера уплаченных налогов\n",
    "\n",
    "### Кроме того, большинство автосалонов зарабатывают большие деньги как автосервисы - это направление бихнеса никак не отражено в представленных данных. "
   ]
  },
  {
   "cell_type": "code",
   "execution_count": 1,
   "id": "e13c4e2a",
   "metadata": {},
   "outputs": [],
   "source": [
    "import pandas as pd\n",
    "import numpy as np\n",
    "import matplotlib.pyplot as plt\n",
    "import seaborn as sns"
   ]
  }
 ],
 "metadata": {
  "kernelspec": {
   "display_name": "Python 3 (ipykernel)",
   "language": "python",
   "name": "python3"
  },
  "language_info": {
   "codemirror_mode": {
    "name": "ipython",
    "version": 3
   },
   "file_extension": ".py",
   "mimetype": "text/x-python",
   "name": "python",
   "nbconvert_exporter": "python",
   "pygments_lexer": "ipython3",
   "version": "3.10.9"
  }
 },
 "nbformat": 4,
 "nbformat_minor": 5
}
